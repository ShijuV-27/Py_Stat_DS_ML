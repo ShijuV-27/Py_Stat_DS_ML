{
 "cells": [
  {
   "cell_type": "code",
   "execution_count": 3,
   "id": "a3c0d28f",
   "metadata": {},
   "outputs": [
    {
     "name": "stdout",
     "output_type": "stream",
     "text": [
      "15\n"
     ]
    }
   ],
   "source": [
    "a=10\n",
    "b=5\n",
    "print (a+b)"
   ]
  },
  {
   "cell_type": "code",
   "execution_count": 4,
   "id": "91816b0b",
   "metadata": {},
   "outputs": [
    {
     "name": "stdout",
     "output_type": "stream",
     "text": [
      "True\n",
      "True\n",
      "False\n"
     ]
    }
   ],
   "source": [
    "## Operators\n",
    "\n",
    "#Logical (and, or, not)   : Checks for a logical condition\n",
    "\n",
    "print(10 < 50 and 20 < 100)\n",
    "print(10 < 50 or 200 < 100)\n",
    "print(not(10 < 50))"
   ]
  },
  {
   "cell_type": "code",
   "execution_count": 20,
   "id": "457cc744",
   "metadata": {},
   "outputs": [
    {
     "name": "stdout",
     "output_type": "stream",
     "text": [
      "True\n",
      "False\n",
      "True\n",
      "2020627363136\n",
      "2020669441088\n",
      "2020627363136\n"
     ]
    }
   ],
   "source": [
    "# identity  : Check if they are same objects or not -  memory location (is, isnot)\n",
    "\n",
    "a = [1, 2, 3]\n",
    "b = [1, 2, 3]\n",
    "c = a\n",
    "print (a is c) # -- Same memory location\n",
    "\n",
    "print( a is b) # -- Different memory location\n",
    "print(a==b) # -- Same value not memory location\n",
    "print(id(a))\n",
    "print(id(b))\n",
    "print(id(c))"
   ]
  },
  {
   "cell_type": "code",
   "execution_count": 6,
   "id": "7549d9c9",
   "metadata": {},
   "outputs": [
    {
     "name": "stdout",
     "output_type": "stream",
     "text": [
      "True\n",
      "False\n"
     ]
    }
   ],
   "source": [
    "# Membership (in and not in) check if a sequence is present in an object\n",
    "\n",
    "a = [1,2,3,4,5,6,7]\n",
    "\n",
    "print(3 in a)\n",
    "print(3 not in a)\n"
   ]
  },
  {
   "cell_type": "code",
   "execution_count": null,
   "id": "5e8b618f",
   "metadata": {},
   "outputs": [],
   "source": [
    "## Variables \n",
    "\n",
    "a = 10 ## a is variable"
   ]
  },
  {
   "cell_type": "code",
   "execution_count": 26,
   "id": "83e69beb",
   "metadata": {},
   "outputs": [
    {
     "name": "stdout",
     "output_type": "stream",
     "text": [
      "<class 'int'>\n",
      "<class 'float'>\n",
      "<class 'complex'>\n"
     ]
    }
   ],
   "source": [
    "## Number\n",
    "\n",
    "print(type(10))\n",
    "print(type(10.1))\n",
    "print(type(10+23j))"
   ]
  },
  {
   "cell_type": "code",
   "execution_count": 7,
   "id": "695acd5f",
   "metadata": {},
   "outputs": [
    {
     "name": "stdout",
     "output_type": "stream",
     "text": [
      "<class 'str'>\n",
      "<class 'str'>\n",
      "<class 'str'>\n"
     ]
    }
   ],
   "source": [
    "## Strings\n",
    "\n",
    "print(type(\"123\"))\n",
    "print(type('India'))\n",
    "print(type('''Indian'''))"
   ]
  },
  {
   "cell_type": "code",
   "execution_count": 9,
   "id": "ba73499d",
   "metadata": {},
   "outputs": [
    {
     "name": "stdout",
     "output_type": "stream",
     "text": [
      "<class 'int'>\n",
      "<class 'float'>\n",
      "<class 'str'>\n"
     ]
    }
   ],
   "source": [
    "## Create a variable assign a integer, float and string to then and check their type\n",
    "\n",
    "\n",
    "a = 10\n",
    "b = 10.2\n",
    "c = \"India\"\n",
    "\n",
    "print(type(a))\n",
    "print(type(b))\n",
    "print(type(c))\n",
    "\n",
    "\n"
   ]
  },
  {
   "cell_type": "code",
   "execution_count": 32,
   "id": "918166c8",
   "metadata": {},
   "outputs": [
    {
     "name": "stdout",
     "output_type": "stream",
     "text": [
      "[1, 2, 3]\n",
      "<class 'list'>\n"
     ]
    }
   ],
   "source": [
    "## List : Mutable ## Collection of objects\n",
    "\n",
    "a = [1,2,3]\n",
    "print(a)\n",
    "print(type(a))"
   ]
  },
  {
   "cell_type": "code",
   "execution_count": 31,
   "id": "15bb790a",
   "metadata": {},
   "outputs": [
    {
     "name": "stdout",
     "output_type": "stream",
     "text": [
      "(1, 2, 3)\n",
      "<class 'tuple'>\n"
     ]
    }
   ],
   "source": [
    "## Tuple : Immutable\n",
    "\n",
    "a = (1,2,3)\n",
    "print(a)\n",
    "print(type(a))"
   ]
  },
  {
   "cell_type": "code",
   "execution_count": 36,
   "id": "93e323a5",
   "metadata": {},
   "outputs": [
    {
     "name": "stdout",
     "output_type": "stream",
     "text": [
      "{1, 2, 3, 4, 5, 20, 10}\n",
      "<class 'set'>\n"
     ]
    }
   ],
   "source": [
    "## Set : Unordered and no duplicates : Immutable and no indexing\n",
    "\n",
    "\n",
    "a = {10,20,3,1,2,2,4,5,4,2,3,1}\n",
    "print(a)\n",
    "print(type(a))"
   ]
  },
  {
   "cell_type": "code",
   "execution_count": 15,
   "id": "8f80c840",
   "metadata": {},
   "outputs": [
    {
     "name": "stdout",
     "output_type": "stream",
     "text": [
      "{'a': 10, 'b': 20, 'c': 30}\n",
      "<class 'dict'>\n",
      "10\n",
      "dict_keys(['a', 'b', 'c'])\n",
      "dict_values([10, 20, 30])\n"
     ]
    }
   ],
   "source": [
    "## Dictionary : Key value pair\n",
    "\n",
    "a = {'a':10, 'b':20,'c':30}\n",
    "print(a)\n",
    "print(type(a))\n",
    "print(a['a']) ## -- to get the value of a particular key\n",
    "\n",
    "print(a.keys())\n",
    "print(a.values())"
   ]
  },
  {
   "cell_type": "code",
   "execution_count": 31,
   "id": "cf889b76",
   "metadata": {},
   "outputs": [
    {
     "name": "stdout",
     "output_type": "stream",
     "text": [
      "['I', 'N', 'D']\n",
      "['D', 'I', 'A']\n",
      "['N', 'D', 'I', 'A', 'N']\n",
      "['N', 'D', 'I']\n",
      "['I', 'N', 'D']\n",
      "['D', 'I', 'A']\n",
      "['N', 'D', 'I', 'A', 'N']\n",
      "['N', 'D', 'I']\n"
     ]
    }
   ],
   "source": [
    "## Indexing\n",
    "\n",
    "a = ['I','N','D','I','A','N']\n",
    "\n",
    "print(a[0:3])\n",
    "print(a[2:5])  ## Positive indexing\n",
    "print(a[1:6])\n",
    "print(a[1:4])\n",
    "\n",
    "print(a[-6:-3])\n",
    "print(a[-4:-1]) ## Negative indexing\n",
    "print(a[-5:])\n",
    "print(a[-5:-2])\n"
   ]
  },
  {
   "cell_type": "code",
   "execution_count": 33,
   "id": "40104ed5",
   "metadata": {},
   "outputs": [
    {
     "name": "stdout",
     "output_type": "stream",
     "text": [
      "30\n",
      "30\n",
      "[10, 20, 345, 40]\n"
     ]
    },
    {
     "ename": "TypeError",
     "evalue": "'tuple' object does not support item assignment",
     "output_type": "error",
     "traceback": [
      "\u001b[1;31m---------------------------------------------------------------------------\u001b[0m",
      "\u001b[1;31mTypeError\u001b[0m                                 Traceback (most recent call last)",
      "Input \u001b[1;32mIn [33]\u001b[0m, in \u001b[0;36m<cell line: 11>\u001b[1;34m()\u001b[0m\n\u001b[0;32m      9\u001b[0m a[\u001b[38;5;241m2\u001b[39m]\u001b[38;5;241m=\u001b[39m\u001b[38;5;241m345\u001b[39m\n\u001b[0;32m     10\u001b[0m \u001b[38;5;28mprint\u001b[39m(a)\n\u001b[1;32m---> 11\u001b[0m b[\u001b[38;5;241m2\u001b[39m]\u001b[38;5;241m=\u001b[39m\u001b[38;5;241m345\u001b[39m\n\u001b[0;32m     12\u001b[0m \u001b[38;5;28mprint\u001b[39m(b)\n",
      "\u001b[1;31mTypeError\u001b[0m: 'tuple' object does not support item assignment"
     ]
    }
   ],
   "source": [
    "## Simple mutability and immutability\n",
    "\n",
    "a = [10,20,30,40] ## -- list\n",
    "b = (10,20,30,40) ## -- tuple\n",
    "\n",
    "print(a[2])\n",
    "print(a[2])\n",
    "\n",
    "a[2]=345\n",
    "print(a)\n",
    "b[2]=345\n",
    "print(b)"
   ]
  },
  {
   "cell_type": "code",
   "execution_count": 8,
   "id": "4a7ebef8",
   "metadata": {},
   "outputs": [
    {
     "name": "stdout",
     "output_type": "stream",
     "text": [
      "-16\n"
     ]
    }
   ],
   "source": [
    "def multiply_list(items):\n",
    "    tot = 1\n",
    "    for x in items:\n",
    "        tot *= x\n",
    "    return tot\n",
    "print(multiply_list([1,2,-8]))\n"
   ]
  },
  {
   "cell_type": "code",
   "execution_count": 11,
   "id": "8089aca2",
   "metadata": {},
   "outputs": [
    {
     "name": "stdout",
     "output_type": "stream",
     "text": [
      "64\n"
     ]
    }
   ],
   "source": [
    "def sum_list(items):\n",
    "    sum_numbers = 0\n",
    "    for x in items:\n",
    "        sum_numbers += x\n",
    "    return sum_numbers\n",
    "print(sum_list([10,12,20,22]))\n"
   ]
  },
  {
   "cell_type": "code",
   "execution_count": 14,
   "id": "256e56ad",
   "metadata": {},
   "outputs": [
    {
     "name": "stdout",
     "output_type": "stream",
     "text": [
      "1\n"
     ]
    }
   ],
   "source": [
    "def max_num_in_list(list):\n",
    "    max = list[0]\n",
    "    for a in list:\n",
    "        if a  > max:\n",
    "            max = a\n",
    "        return max\n",
    "print(max_num_in_list([1,2,-8,0]))"
   ]
  },
  {
   "cell_type": "code",
   "execution_count": 17,
   "id": "1ab19270",
   "metadata": {},
   "outputs": [
    {
     "name": "stdout",
     "output_type": "stream",
     "text": [
      "-8\n"
     ]
    }
   ],
   "source": [
    "def smallest_num_in_list( list ):\n",
    "    min = list[ 0 ]\n",
    "    for a in list:\n",
    "        if a < min:\n",
    "            min = a\n",
    "    return min\n",
    "print(min_num_in_list([1, 2, -8, 0]))\n"
   ]
  },
  {
   "cell_type": "code",
   "execution_count": 19,
   "id": "17d4de10",
   "metadata": {},
   "outputs": [
    {
     "name": "stdout",
     "output_type": "stream",
     "text": [
      "2\n"
     ]
    }
   ],
   "source": [
    "def match_words(words):\n",
    "  ctr = 0\n",
    "\n",
    "  for word in words:\n",
    "    if len(word) > 1 and word[0] == word[-1]:\n",
    "      ctr += 1\n",
    "  return ctr\n",
    "\n",
    "print(match_words(['abc', 'xyz', 'aba', '1221']))\n"
   ]
  },
  {
   "cell_type": "code",
   "execution_count": 27,
   "id": "5c71f762",
   "metadata": {},
   "outputs": [
    {
     "name": "stdout",
     "output_type": "stream",
     "text": [
      "[(2, 1), (1, 2), (2, 3), (4, 4), (2, 5)]\n"
     ]
    }
   ],
   "source": [
    "def last(n): return n[-1]\n",
    "\n",
    "def sort_list_last(tuples):\n",
    "  return sorted(tuples, key=last)\n",
    "\n",
    "print(sort_list_last([(2, 5), (1, 2), (4, 4), (2, 3), (2, 1)]))\n"
   ]
  },
  {
   "cell_type": "code",
   "execution_count": 31,
   "id": "d7dc9635",
   "metadata": {},
   "outputs": [
    {
     "name": "stdout",
     "output_type": "stream",
     "text": [
      "{40, 10, 80, 50, 20, 60, 30}\n"
     ]
    }
   ],
   "source": [
    "\n",
    "a = [10,20,30,20,10,50,60,40,80,50,40]\n",
    "\n",
    "dup_items = set()\n",
    "uniq_items = []\n",
    "for x in a:\n",
    "    if x not in dup_items:\n",
    "        uniq_items.append(x)\n",
    "        dup_items.add(x)\n",
    "\n",
    "print(dup_items)\n"
   ]
  },
  {
   "cell_type": "code",
   "execution_count": 32,
   "id": "748ecd26",
   "metadata": {},
   "outputs": [
    {
     "name": "stdout",
     "output_type": "stream",
     "text": [
      "list is empty\n"
     ]
    }
   ],
   "source": [
    "l = []\n",
    "if not l:\n",
    "    print('list is empty')"
   ]
  },
  {
   "cell_type": "code",
   "execution_count": null,
   "id": "d12ac403",
   "metadata": {},
   "outputs": [],
   "source": []
  }
 ],
 "metadata": {
  "kernelspec": {
   "display_name": "Python 3 (ipykernel)",
   "language": "python",
   "name": "python3"
  },
  "language_info": {
   "codemirror_mode": {
    "name": "ipython",
    "version": 3
   },
   "file_extension": ".py",
   "mimetype": "text/x-python",
   "name": "python",
   "nbconvert_exporter": "python",
   "pygments_lexer": "ipython3",
   "version": "3.9.12"
  }
 },
 "nbformat": 4,
 "nbformat_minor": 5
}
