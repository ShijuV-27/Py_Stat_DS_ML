{
 "cells": [
  {
   "cell_type": "code",
   "execution_count": null,
   "id": "34eb6623",
   "metadata": {},
   "outputs": [],
   "source": [
    "## Comment"
   ]
  },
  {
   "cell_type": "code",
   "execution_count": 3,
   "id": "2013b0e1",
   "metadata": {
    "scrolled": true
   },
   "outputs": [
    {
     "name": "stdout",
     "output_type": "stream",
     "text": [
      "12\n",
      "8\n",
      "20\n",
      "5.0\n",
      "0\n",
      "100\n"
     ]
    }
   ],
   "source": [
    "## Arithemetic operator\n",
    "\n",
    "print(10+2)\n",
    "print(10-2)\n",
    "print(10*2)\n",
    "print(10/2)\n",
    "print(10%2) ## Modulus -- Remainder\n",
    "print(10**2)## e to the power"
   ]
  },
  {
   "cell_type": "code",
   "execution_count": 8,
   "id": "7d288d30",
   "metadata": {},
   "outputs": [
    {
     "name": "stdout",
     "output_type": "stream",
     "text": [
      "10\n",
      "20\n",
      "10\n",
      "100\n",
      "0\n",
      "0\n"
     ]
    }
   ],
   "source": [
    "## Assignment operator\n",
    "\n",
    "a = 10 ## a is the variable, = is an assignment operator\n",
    "print(a)\n",
    "\n",
    "a += 10\n",
    "print(a)\n",
    "\n",
    "a -= 10\n",
    "print(a)\n",
    "\n",
    "a *= 10\n",
    "print(a)\n",
    "\n",
    "a %= 10\n",
    "print(a)\n",
    "\n",
    "a **= 10\n",
    "print(a)"
   ]
  },
  {
   "cell_type": "code",
   "execution_count": 10,
   "id": "a90c8315",
   "metadata": {},
   "outputs": [
    {
     "name": "stdout",
     "output_type": "stream",
     "text": [
      "False\n",
      "True\n",
      "False\n",
      "True\n",
      "True\n",
      "False\n"
     ]
    }
   ],
   "source": [
    "## Comparision operator\n",
    "\n",
    "print(10==20)\n",
    "print(10!=20)\n",
    "print(10>20)\n",
    "print(10<20)\n",
    "print(10<=20)\n",
    "print(10>=20)\n",
    "\n"
   ]
  },
  {
   "cell_type": "code",
   "execution_count": null,
   "id": "6cebc5d3",
   "metadata": {},
   "outputs": [],
   "source": []
  }
 ],
 "metadata": {
  "kernelspec": {
   "display_name": "Python 3 (ipykernel)",
   "language": "python",
   "name": "python3"
  },
  "language_info": {
   "codemirror_mode": {
    "name": "ipython",
    "version": 3
   },
   "file_extension": ".py",
   "mimetype": "text/x-python",
   "name": "python",
   "nbconvert_exporter": "python",
   "pygments_lexer": "ipython3",
   "version": "3.9.12"
  }
 },
 "nbformat": 4,
 "nbformat_minor": 5
}
